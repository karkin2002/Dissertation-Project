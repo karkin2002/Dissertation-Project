{
 "cells": [
  {
   "cell_type": "code",
   "metadata": {
    "ExecuteTime": {
     "end_time": "2025-02-24T16:03:12.231772Z",
     "start_time": "2025-02-24T16:03:12.229107Z"
    }
   },
   "source": [
    "import torch, os\n",
    "from transformers import T5Tokenizer, T5ForConditionalGeneration, Trainer, TrainingArguments, DataCollatorForSeq2Seq\n",
    "from datasets import load_from_disk, Dataset\n",
    "import pandas as pd"
   ],
   "outputs": [],
   "execution_count": 23
  },
  {
   "cell_type": "code",
   "metadata": {
    "ExecuteTime": {
     "end_time": "2025-02-24T16:03:12.344711Z",
     "start_time": "2025-02-24T16:03:12.274667Z"
    }
   },
   "source": [
    "device = \"cuda\" if torch.cuda.is_available() else \"cpu\"\n",
    "torch.cuda.empty_cache()\n",
    "\n",
    "torch.set_float32_matmul_precision(\"high\")  # Optimize matrix multiplications"
   ],
   "outputs": [],
   "execution_count": 24
  },
  {
   "cell_type": "code",
   "metadata": {
    "ExecuteTime": {
     "end_time": "2025-02-24T16:03:12.662117Z",
     "start_time": "2025-02-24T16:03:12.354590Z"
    }
   },
   "source": [
    "df = pd.read_csv(\"../airline_incidents.csv\")  # Ensure the file is in the same directory\n",
    "df = df.dropna()  # Remove missing values\n",
    "df = df.sample(frac=1).reset_index(drop=True)  # Shuffle dataset"
   ],
   "outputs": [],
   "execution_count": 25
  },
  {
   "cell_type": "code",
   "metadata": {
    "ExecuteTime": {
     "end_time": "2025-02-24T16:03:14.006086Z",
     "start_time": "2025-02-24T16:03:12.671485Z"
    }
   },
   "source": [
    "# Define the Model and Tokenizer\n",
    "MODEL_NAME = \"t5-small\"\n",
    "tokenizer = T5Tokenizer.from_pretrained(MODEL_NAME)\n",
    "model = T5ForConditionalGeneration.from_pretrained(MODEL_NAME).to(device)"
   ],
   "outputs": [],
   "execution_count": 26
  },
  {
   "cell_type": "code",
   "metadata": {
    "ExecuteTime": {
     "end_time": "2025-02-24T16:03:14.018754Z",
     "start_time": "2025-02-24T16:03:14.016095Z"
    }
   },
   "source": [
    "# Prepare Dataset for T5 (Text-to-Text)\n",
    "def preprocess_function(example):\n",
    "    \"\"\"Tokenizes input and output text for T5\"\"\"\n",
    "    model_input = f\"incident: {example['report']}\"  # Prompting format\n",
    "    target_text = f\"failure: {example['part failure']}\"\n",
    "\n",
    "    model_inputs = tokenizer(model_input, max_length=512, truncation=True, padding=\"max_length\")\n",
    "    labels = tokenizer(target_text, max_length=128, truncation=True, padding=\"max_length\")\n",
    "\n",
    "    model_inputs[\"labels\"] = labels[\"input_ids\"]  # Assign decoder labels\n",
    "\n",
    "    return model_inputs"
   ],
   "outputs": [],
   "execution_count": 27
  },
  {
   "cell_type": "code",
   "metadata": {
    "ExecuteTime": {
     "end_time": "2025-02-24T16:03:14.072297Z",
     "start_time": "2025-02-24T16:03:14.059191Z"
    }
   },
   "source": [
    "# Convert DataFrame to HuggingFace Dataset\n",
    "if os.path.exists(\"../processed_dataset\"):\n",
    "    # Load from disk if it exists\n",
    "    dataset = load_from_disk(\"../processed_dataset\")\n",
    "else:\n",
    "    # Process and save if not found\n",
    "    dataset = Dataset.from_pandas(df)\n",
    "    dataset = dataset.map(preprocess_function, remove_columns=[\"report\", \"part failure\"])\n",
    "    dataset.save_to_disk(\"processed_dataset\")\n",
    "\n"
   ],
   "outputs": [],
   "execution_count": 28
  },
  {
   "cell_type": "code",
   "metadata": {
    "ExecuteTime": {
     "end_time": "2025-02-24T16:03:14.112555Z",
     "start_time": "2025-02-24T16:03:14.105362Z"
    }
   },
   "source": [
    "# Train-Test Split\n",
    "dataset = dataset.train_test_split(test_size=0.2)  # 80% Training, 20% Validation\n"
   ],
   "outputs": [],
   "execution_count": 29
  },
  {
   "cell_type": "code",
   "metadata": {
    "ExecuteTime": {
     "end_time": "2025-02-24T16:03:14.154672Z",
     "start_time": "2025-02-24T16:03:14.152399Z"
    }
   },
   "source": [
    "# Data Collator (Pads batch inputs dynamically)\n",
    "data_collator = DataCollatorForSeq2Seq(tokenizer, model=model)"
   ],
   "outputs": [],
   "execution_count": 30
  },
  {
   "cell_type": "code",
   "metadata": {
    "ExecuteTime": {
     "end_time": "2025-02-24T16:03:14.204371Z",
     "start_time": "2025-02-24T16:03:14.199310Z"
    }
   },
   "source": [
    "training_args = TrainingArguments(\n",
    "    output_dir=\"../t5_airline_incidents\",\n",
    "    per_device_train_batch_size=64,\n",
    "    per_device_eval_batch_size=64,\n",
    "    gradient_accumulation_steps=1,  # Helps with large models\n",
    "    bf16=False,\n",
    "    fp16=True ,\n",
    "    save_total_limit=2,  # Manage checkpoints\n",
    "    evaluation_strategy=\"epoch\",\n",
    "    save_strategy=\"epoch\",\n",
    "    learning_rate=1e-3,\n",
    "    weight_decay=0.01,\n",
    "    lr_scheduler_type=\"linear\",\n",
    "    optim=\"adamw_torch_fused\",  # Optimized optimizer for ROCm\n",
    "    report_to=\"none\",\n",
    "    logging_strategy = \"steps\",\n",
    "    logging_steps = 100,  # Log every 100 steps\n",
    "    eval_steps = 500  # Evaluate every 500 training steps\n",
    "\n",
    ")"
   ],
   "outputs": [
    {
     "name": "stderr",
     "output_type": "stream",
     "text": [
      "/home/arkin/python-venvs/bert-counterfactual/lib64/python3.11/site-packages/transformers/training_args.py:1594: FutureWarning: `evaluation_strategy` is deprecated and will be removed in version 4.46 of 🤗 Transformers. Use `eval_strategy` instead\n",
      "  warnings.warn(\n"
     ]
    }
   ],
   "execution_count": 31
  },
  {
   "cell_type": "code",
   "metadata": {
    "ExecuteTime": {
     "end_time": "2025-02-24T16:03:14.257870Z",
     "start_time": "2025-02-24T16:03:14.249474Z"
    }
   },
   "source": [
    "# Initialize Trainer\n",
    "trainer = Trainer(\n",
    "    model=model,\n",
    "    args=training_args,\n",
    "    train_dataset=dataset[\"train\"],\n",
    "    eval_dataset=dataset[\"test\"],\n",
    "    tokenizer=tokenizer,\n",
    "    data_collator=data_collator,\n",
    ")"
   ],
   "outputs": [
    {
     "name": "stderr",
     "output_type": "stream",
     "text": [
      "/tmp/ipykernel_4670/1910852443.py:2: FutureWarning: `tokenizer` is deprecated and will be removed in version 5.0.0 for `Trainer.__init__`. Use `processing_class` instead.\n",
      "  trainer = Trainer(\n"
     ]
    }
   ],
   "execution_count": 32
  },
  {
   "cell_type": "code",
   "metadata": {
    "ExecuteTime": {
     "end_time": "2025-02-24T16:32:11.585123Z",
     "start_time": "2025-02-24T16:03:14.298684Z"
    }
   },
   "source": [
    "# Start Training\n",
    "trainer.train()"
   ],
   "outputs": [
    {
     "data": {
      "text/plain": [
       "<IPython.core.display.HTML object>"
      ],
      "text/html": [
       "\n",
       "    <div>\n",
       "      \n",
       "      <progress value='3753' max='3753' style='width:300px; height:20px; vertical-align: middle;'></progress>\n",
       "      [3753/3753 28:56, Epoch 3/3]\n",
       "    </div>\n",
       "    <table border=\"1\" class=\"dataframe\">\n",
       "  <thead>\n",
       " <tr style=\"text-align: left;\">\n",
       "      <th>Epoch</th>\n",
       "      <th>Training Loss</th>\n",
       "      <th>Validation Loss</th>\n",
       "    </tr>\n",
       "  </thead>\n",
       "  <tbody>\n",
       "    <tr>\n",
       "      <td>1</td>\n",
       "      <td>0.042800</td>\n",
       "      <td>0.037454</td>\n",
       "    </tr>\n",
       "    <tr>\n",
       "      <td>2</td>\n",
       "      <td>0.034900</td>\n",
       "      <td>0.032665</td>\n",
       "    </tr>\n",
       "    <tr>\n",
       "      <td>3</td>\n",
       "      <td>0.032300</td>\n",
       "      <td>0.030881</td>\n",
       "    </tr>\n",
       "  </tbody>\n",
       "</table><p>"
      ]
     },
     "metadata": {},
     "output_type": "display_data"
    },
    {
     "data": {
      "text/plain": [
       "TrainOutput(global_step=3753, training_loss=0.056021749957415254, metrics={'train_runtime': 1737.1039, 'train_samples_per_second': 138.199, 'train_steps_per_second': 2.16, 'total_flos': 3.249096491217715e+16, 'train_loss': 0.056021749957415254, 'epoch': 3.0})"
      ]
     },
     "execution_count": 33,
     "metadata": {},
     "output_type": "execute_result"
    }
   ],
   "execution_count": 33
  },
  {
   "cell_type": "code",
   "metadata": {
    "ExecuteTime": {
     "end_time": "2025-02-24T16:32:12.226755Z",
     "start_time": "2025-02-24T16:32:11.697195Z"
    }
   },
   "source": [
    "# SAVE THE FINE-TUNED MODEL\n",
    "model.save_pretrained(\"./t5_finetuned_airline_incidents\")\n",
    "tokenizer.save_pretrained(\"./t5_finetuned_airline_incidents\")"
   ],
   "outputs": [
    {
     "data": {
      "text/plain": [
       "('./t5_finetuned_airline_incidents/tokenizer_config.json',\n",
       " './t5_finetuned_airline_incidents/special_tokens_map.json',\n",
       " './t5_finetuned_airline_incidents/spiece.model',\n",
       " './t5_finetuned_airline_incidents/added_tokens.json')"
      ]
     },
     "execution_count": 34,
     "metadata": {},
     "output_type": "execute_result"
    }
   ],
   "execution_count": 34
  }
 ],
 "metadata": {
  "kernelspec": {
   "display_name": "Python 3 (ipykernel)",
   "language": "python",
   "name": "python3"
  },
  "language_info": {
   "codemirror_mode": {
    "name": "ipython",
    "version": 3
   },
   "file_extension": ".py",
   "mimetype": "text/x-python",
   "name": "python",
   "nbconvert_exporter": "python",
   "pygments_lexer": "ipython3",
   "version": "3.13.2"
  }
 },
 "nbformat": 4,
 "nbformat_minor": 2
}
