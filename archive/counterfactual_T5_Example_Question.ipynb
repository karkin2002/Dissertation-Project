{
 "cells": [
  {
   "cell_type": "code",
   "metadata": {
    "ExecuteTime": {
     "end_time": "2025-02-24T14:52:25.155171Z",
     "start_time": "2025-02-24T14:52:25.152777Z"
    }
   },
   "source": [
    "import torch\n",
    "from transformers import T5Tokenizer, T5ForConditionalGeneration"
   ],
   "outputs": [],
   "execution_count": 10
  },
  {
   "cell_type": "code",
   "metadata": {
    "ExecuteTime": {
     "end_time": "2025-02-24T14:52:25.726111Z",
     "start_time": "2025-02-24T14:52:25.160503Z"
    }
   },
   "source": [
    "# Load the fine-tuned model\n",
    "model_path = \"../t5_finetuned_airline_incidents\"\n",
    "device = \"cuda\" if torch.cuda.is_available() else \"cpu\"\n",
    "tokenizer = T5Tokenizer.from_pretrained(model_path)\n",
    "model = T5ForConditionalGeneration.from_pretrained(model_path).to(\"cuda\" if torch.cuda.is_available() else \"cpu\")"
   ],
   "outputs": [],
   "execution_count": 11
  },
  {
   "cell_type": "code",
   "metadata": {
    "ExecuteTime": {
     "end_time": "2025-02-24T14:52:25.737454Z",
     "start_time": "2025-02-24T14:52:25.734759Z"
    }
   },
   "source": [
    "def predict_failure(incident_description):\n",
    "    input_text = f\"Report: {incident_description}\\nPart Failure: \"\n",
    "    inputs = tokenizer(input_text, return_tensors=\"pt\", max_length=512, truncation=True).to(device)\n",
    "\n",
    "    # Generate Prediction\n",
    "    with torch.no_grad():\n",
    "        output = model.generate(**inputs, max_length=128)\n",
    "\n",
    "    predicted_text = tokenizer.decode(output[0], skip_special_tokens=True)\n",
    "    return predicted_text"
   ],
   "outputs": [],
   "execution_count": 12
  },
  {
   "cell_type": "code",
   "metadata": {
    "ExecuteTime": {
     "end_time": "2025-02-24T14:52:25.890478Z",
     "start_time": "2025-02-24T14:52:25.779202Z"
    }
   },
   "source": [
    "# Example Queries\n",
    "report_1 = \"THE FLIGHT CREW REPORTED OF A BAGGAGE/FUEL DOOR CAS MESSAGE. OPERATIONS WERE CONTINUED PER MEL 52-4. THE MAINTENANCE TEAM TROUBLESHOT AND FOUND THE FUEL DOOR MICROSWITCH TO BE DEFECTIVE. THE SWITCH WAS REPLACED WITH NEW AND RIGGED. OPERATIONS WERE SATISFACTORY AND THE AIRCRAFT WAS RETURNED TO SERVICE.\"\n",
    "\n",
    "print(\"Report:\", report_1)\n",
    "print(\"Predicted Failure:\", predict_failure(report_1))"
   ],
   "outputs": [
    {
     "name": "stdout",
     "output_type": "stream",
     "text": [
      "Report: THE FLIGHT CREW REPORTED OF A BAGGAGE/FUEL DOOR CAS MESSAGE. OPERATIONS WERE CONTINUED PER MEL 52-4. THE MAINTENANCE TEAM TROUBLESHOT AND FOUND THE FUEL DOOR MICROSWITCH TO BE DEFECTIVE. THE SWITCH WAS REPLACED WITH NEW AND RIGGED. OPERATIONS WERE SATISFACTORY AND THE AIRCRAFT WAS RETURNED TO SERVICE.\n",
      "Predicted Failure: Report: FUEL DOOR DEFECTIVE\n"
     ]
    }
   ],
   "execution_count": 13
  },
  {
   "cell_type": "code",
   "metadata": {
    "ExecuteTime": {
     "end_time": "2025-02-24T14:52:26.056424Z",
     "start_time": "2025-02-24T14:52:25.897646Z"
    }
   },
   "source": [
    "# Example Queries\n",
    "report_1 = \"THE FLIGHT CREW REPORTED OF A BAGGAGE/FUEL DOOR CAS MESSAGE. OPERATIONS WERE CONTINUED PER MEL 52-4. THE MAINTENANCE TEAM TROUBLESHOT AND FOUND THE FUEL DOOR MICROSWITCH TO BE MALFUNCTIONAL. THE SWITCH WAS REPLACED WITH NEW AND RIGGED. OPERATIONS WERE SATISFACTORY AND THE AIRCRAFT WAS RETURNED TO SERVICE.\"\n",
    "\n",
    "print(\"Report:\", report_1)\n",
    "print(\"Predicted Failure:\", predict_failure(report_1))"
   ],
   "outputs": [
    {
     "name": "stdout",
     "output_type": "stream",
     "text": [
      "Report: THE FLIGHT CREW REPORTED OF A BAGGAGE/FUEL DOOR CAS MESSAGE. OPERATIONS WERE CONTINUED PER MEL 52-4. THE MAINTENANCE TEAM TROUBLESHOT AND FOUND THE FUEL DOOR MICROSWITCH TO BE MALFUNCTIONAL. THE SWITCH WAS REPLACED WITH NEW AND RIGGED. OPERATIONS WERE SATISFACTORY AND THE AIRCRAFT WAS RETURNED TO SERVICE.\n",
      "Predicted Failure: Report: FUEL DOOR CAS MESSAGE CRACKED\n"
     ]
    }
   ],
   "execution_count": 14
  }
 ],
 "metadata": {
  "kernelspec": {
   "display_name": ".venv",
   "language": "python",
   "name": "python3"
  },
  "language_info": {
   "codemirror_mode": {
    "name": "ipython",
    "version": 3
   },
   "file_extension": ".py",
   "mimetype": "text/x-python",
   "name": "python",
   "nbconvert_exporter": "python",
   "pygments_lexer": "ipython3",
   "version": "3.12.8"
  }
 },
 "nbformat": 4,
 "nbformat_minor": 2
}
