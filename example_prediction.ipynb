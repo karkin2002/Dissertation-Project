{
 "cells": [
  {
   "metadata": {},
   "cell_type": "markdown",
   "source": [
    "# Prediction After Fine-Tuning - Simple Example.\n",
    "\n",
    "Date\n",
    ": 06/03/2025\n",
    "\n",
    "Author\n",
    ": Kaya Arkin (Stu No. 2105361)\n",
    "\n",
    "Copyright\n",
    ": Swansea University\n",
    "\n",
    "### **Context**\n",
    "This jupyter notebook is authored by Kaya Arkin (Stu No. 2105361) as part of their Swansea University final year project *\"Exploratory Research on Explainable LLMs (Airbus AI Research)\"*. The project is supervised by Mark Hall, an employee at the Airbus AI Research Department, and Bertie Muller, a university assigned supervisor. The project aims *\"to provide an insightful set of findings and recommendations on fine-turned local explanations for LLMs that can utilised as resource for future explainability implementations\"* tailored towards Airbus AI Research.\n",
    "\n",
    "Please ensure you have read `README.txt` before continuing.\n",
    "\n",
    "---\n",
    "\n",
    "### **Code Explanation**\n",
    "\n",
    "THe jupyter notebook provides an example of the fine-tuned LLM predicting a part failure for a given report. In this example, the fine-tuned model is loaded, an input is tokenised and fed into the model which outputs a predicted response.\n",
    "\n",
    "---\n"
   ],
   "id": "38bb2884884b72db"
  },
  {
   "metadata": {},
   "cell_type": "markdown",
   "source": "## 1. Imports",
   "id": "a38d8d33fef92d8d"
  },
  {
   "metadata": {
    "ExecuteTime": {
     "end_time": "2025-03-06T12:15:28.875883Z",
     "start_time": "2025-03-06T12:15:28.873718Z"
    }
   },
   "cell_type": "code",
   "source": [
    "import torch\n",
    "from transformers import T5Tokenizer, T5ForConditionalGeneration"
   ],
   "id": "33405d7ca1fe1f5f",
   "outputs": [],
   "execution_count": 23
  },
  {
   "metadata": {},
   "cell_type": "markdown",
   "source": [
    "---\n",
    "\n",
    "## 2. Hardware Setup"
   ],
   "id": "ae0d9e387d146f19"
  },
  {
   "metadata": {
    "ExecuteTime": {
     "end_time": "2025-03-06T12:15:28.919852Z",
     "start_time": "2025-03-06T12:15:28.917906Z"
    }
   },
   "cell_type": "code",
   "source": [
    "## Hardware Setup Constants\n",
    "CPU_DEVICE_NAME = \"cpu\"\n",
    "GPU_DEVICE_NAME = \"cuda\""
   ],
   "id": "129eda1c8d750022",
   "outputs": [],
   "execution_count": 24
  },
  {
   "metadata": {
    "ExecuteTime": {
     "end_time": "2025-03-06T12:15:28.969768Z",
     "start_time": "2025-03-06T12:15:28.964310Z"
    }
   },
   "cell_type": "code",
   "source": [
    "## Set processing to GPU if available\n",
    "if torch.cuda.is_available():\n",
    "    device = GPU_DEVICE_NAME\n",
    "\n",
    "    ## Empty GPU VRAM\n",
    "    torch.cuda.empty_cache()\n",
    "\n",
    "    print(\"GPU processing enabled.\")\n",
    "\n",
    "else:\n",
    "    device = CPU_DEVICE_NAME\n",
    "    print(\"GPU processing not available.\")"
   ],
   "id": "7e4608af6af1a570",
   "outputs": [
    {
     "name": "stdout",
     "output_type": "stream",
     "text": [
      "GPU processing enabled.\n"
     ]
    }
   ],
   "execution_count": 25
  },
  {
   "metadata": {},
   "cell_type": "markdown",
   "source": [
    "---\n",
    "\n",
    "## 3. Preprocessing Input"
   ],
   "id": "1cd47f62e4d3495e"
  },
  {
   "metadata": {
    "ExecuteTime": {
     "end_time": "2025-03-06T12:15:29.070255Z",
     "start_time": "2025-03-06T12:15:29.068157Z"
    }
   },
   "cell_type": "code",
   "source": [
    "## Preprocessing Constants\n",
    "MODEL_PATH = \"./t5_finetuned_airline_incidents\"\n",
    "INPUT_FORMAT = \"Report: {report}\""
   ],
   "id": "bc3b1c8eeb790c6d",
   "outputs": [],
   "execution_count": 26
  },
  {
   "metadata": {
    "ExecuteTime": {
     "end_time": "2025-03-06T12:15:29.606864Z",
     "start_time": "2025-03-06T12:15:29.112671Z"
    }
   },
   "cell_type": "code",
   "source": [
    "tokenizer = T5Tokenizer.from_pretrained(MODEL_PATH)\n",
    "model = T5ForConditionalGeneration.from_pretrained(MODEL_PATH).to(device)"
   ],
   "id": "af6e39ffaca40310",
   "outputs": [],
   "execution_count": 27
  },
  {
   "metadata": {
    "ExecuteTime": {
     "end_time": "2025-03-06T12:15:29.618749Z",
     "start_time": "2025-03-06T12:15:29.616102Z"
    }
   },
   "cell_type": "code",
   "source": [
    "from transformers import BatchEncoding ## This import is only used for python annotations, not implementation\n",
    "\n",
    "def tokenise_input(report: str) -> BatchEncoding:\n",
    "    input_text = INPUT_FORMAT.format(report=report)\n",
    "    return tokenizer(input_text, return_tensors=\"pt\", max_length=512, truncation=True).to(device)\n"
   ],
   "id": "983248b14c62e2b4",
   "outputs": [],
   "execution_count": 28
  },
  {
   "metadata": {},
   "cell_type": "markdown",
   "source": [
    "---\n",
    "\n",
    "## 4. Generate Prediction"
   ],
   "id": "24419adf6a2a05de"
  },
  {
   "metadata": {
    "ExecuteTime": {
     "end_time": "2025-03-06T12:15:29.661124Z",
     "start_time": "2025-03-06T12:15:29.658567Z"
    }
   },
   "cell_type": "code",
   "source": [
    "## Generating Prediction Constants\n",
    "EXAMPLE_REPORT = \"THE FLIGHT CREW REPORTED OF A BAGGAGE/FUEL DOOR CAS MESSAGE. OPERATIONS WERE CONTINUED PER MEL 52-4. THE MAINTENANCE TEAM TROUBLESHOT AND FOUND THE FUEL DOOR MICROSWITCH TO BE DEFECTIVE. THE SWITCH WAS REPLACED WITH NEW AND RIGGED. OPERATIONS WERE SATISFACTORY AND THE AIRCRAFT WAS RETURNED TO SERVICE.\""
   ],
   "id": "4bf404ba2841a553",
   "outputs": [],
   "execution_count": 29
  },
  {
   "metadata": {
    "ExecuteTime": {
     "end_time": "2025-03-06T12:15:29.712642Z",
     "start_time": "2025-03-06T12:15:29.709879Z"
    }
   },
   "cell_type": "code",
   "source": [
    "def get_predicted_part_failure(report: str) -> str:\n",
    "    inputs = tokenise_input(report)\n",
    "\n",
    "    with torch.no_grad():\n",
    "        output = model.generate(**inputs, max_length=128)\n",
    "\n",
    "    return tokenizer.decode(output[0], skip_special_tokens=True)"
   ],
   "id": "997ed5d4553bb32a",
   "outputs": [],
   "execution_count": 30
  },
  {
   "metadata": {
    "ExecuteTime": {
     "end_time": "2025-03-06T12:15:29.870012Z",
     "start_time": "2025-03-06T12:15:29.755555Z"
    }
   },
   "cell_type": "code",
   "source": [
    "print(\"Report:\", EXAMPLE_REPORT)\n",
    "print(get_predicted_part_failure(EXAMPLE_REPORT))"
   ],
   "id": "8e3f9358e8063aa4",
   "outputs": [
    {
     "name": "stdout",
     "output_type": "stream",
     "text": [
      "Report: THE FLIGHT CREW REPORTED OF A BAGGAGE/FUEL DOOR CAS MESSAGE. OPERATIONS WERE CONTINUED PER MEL 52-4. THE MAINTENANCE TEAM TROUBLESHOT AND FOUND THE FUEL DOOR MICROSWITCH TO BE DEFECTIVE. THE SWITCH WAS REPLACED WITH NEW AND RIGGED. OPERATIONS WERE SATISFACTORY AND THE AIRCRAFT WAS RETURNED TO SERVICE.\n",
      "Part Failure: FUEL DOOR DEFECTIVE\n"
     ]
    }
   ],
   "execution_count": 31
  },
  {
   "metadata": {
    "ExecuteTime": {
     "end_time": "2025-03-06T12:38:02.654224Z",
     "start_time": "2025-03-06T12:38:02.544817Z"
    }
   },
   "cell_type": "code",
   "source": [
    "new_report = \"THE FLIGHT CREW REPORTED OF A BAGGAGE/FUEL DOOR CAS MESSAGE. OPERATIONS WERE CONTINUED PER MEL 52-4. THE MAINTENANCE TEAM TROUBLESHOT AND FOUND THE FUEL DOOR MICROSWITCH TO BE DEFECTIVE. THE SWITCH WAS REPLACED WITH NEW AND RIGGED. OPERATIONS WERE SATISFACTORY AND THE AIRCRAFT WAS RETURNED TO SERVICE.\"\n",
    "print(\"Report:\", new_report)\n",
    "print(get_predicted_part_failure(new_report))"
   ],
   "id": "e355ea8be9edf122",
   "outputs": [
    {
     "name": "stdout",
     "output_type": "stream",
     "text": [
      "Report: THE FLIGHT CREW REPORTED OF A BAGGAGE/FUEL DOOR CAS MESSAGE. OPERATIONS WERE CONTINUED PER MEL 52-4. THE MAINTENANCE TEAM TROUBLESHOT AND FOUND THE FUEL DOOR MICROSWITCH TO BE DEFECTIVE. THE SWITCH WAS REPLACED WITH NEW AND RIGGED. OPERATIONS WERE SATISFACTORY AND THE AIRCRAFT WAS RETURNED TO SERVICE.\n",
      "Part Failure: FUEL DOOR DEFECTIVE\n"
     ]
    }
   ],
   "execution_count": 95
  }
 ],
 "metadata": {
  "kernelspec": {
   "display_name": "Python 3",
   "language": "python",
   "name": "python3"
  },
  "language_info": {
   "codemirror_mode": {
    "name": "ipython",
    "version": 2
   },
   "file_extension": ".py",
   "mimetype": "text/x-python",
   "name": "python",
   "nbconvert_exporter": "python",
   "pygments_lexer": "ipython2",
   "version": "2.7.6"
  }
 },
 "nbformat": 4,
 "nbformat_minor": 5
}
